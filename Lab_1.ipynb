{
  "nbformat": 4,
  "nbformat_minor": 0,
  "metadata": {
    "colab": {
      "name": "Lab 1.ipynb",
      "provenance": [],
      "collapsed_sections": [],
      "authorship_tag": "ABX9TyPx38mGW27KO99CIHHrlbAV",
      "include_colab_link": true
    },
    "kernelspec": {
      "name": "python3",
      "display_name": "Python 3"
    }
  },
  "cells": [
    {
      "cell_type": "markdown",
      "metadata": {
        "id": "view-in-github",
        "colab_type": "text"
      },
      "source": [
        "<a href=\"https://colab.research.google.com/github/MaddieCree/Lab-1/blob/master/Lab_1.ipynb\" target=\"_parent\"><img src=\"https://colab.research.google.com/assets/colab-badge.svg\" alt=\"Open In Colab\"/></a>"
      ]
    },
    {
      "cell_type": "markdown",
      "metadata": {
        "id": "iv6ROfYHcDj1",
        "colab_type": "text"
      },
      "source": [
        "# Do you like using Jupyter Notebooks?"
      ]
    },
    {
      "cell_type": "markdown",
      "metadata": {
        "id": "4PyGAsugb9mr",
        "colab_type": "text"
      },
      "source": [
        "##I enjoy using Jupyter Notebooks because it is something different and I can add it to my skillset for future jobs. I also like the organization it offers to code and add notes to my code."
      ]
    },
    {
      "cell_type": "markdown",
      "metadata": {
        "id": "cLx-7J3rcstZ",
        "colab_type": "text"
      },
      "source": [
        "# What do you want to learn more about in Jupyter Notebooks?"
      ]
    },
    {
      "cell_type": "markdown",
      "metadata": {
        "id": "61augIqgdAEy",
        "colab_type": "text"
      },
      "source": [
        "## I want to learn more about sharing documents that contain live code. I also want to learn more about inserting images and how visualization is useful with Jupyter Notebooks. "
      ]
    },
    {
      "cell_type": "markdown",
      "metadata": {
        "id": "Rc7q_enKguXZ",
        "colab_type": "text"
      },
      "source": [
        "\n",
        "![My dog Harley](https://raw.githubusercontent.com/MaddieCree/Lab-1/master/B891405F-3DD0-4082-BBE0-041F28DA73E7.jpeg)\n"
      ]
    }
  ]
}